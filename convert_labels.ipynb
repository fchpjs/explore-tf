{
 "cells": [
  {
   "cell_type": "code",
   "execution_count": 22,
   "metadata": {},
   "outputs": [],
   "source": [
    "import os\n",
    "import json"
   ]
  },
  {
   "cell_type": "code",
   "execution_count": 4,
   "metadata": {},
   "outputs": [],
   "source": [
    "from submodules.models.research.object_detection.utils import label_map_util"
   ]
  },
  {
   "cell_type": "code",
   "execution_count": 5,
   "metadata": {},
   "outputs": [],
   "source": [
    "CWD_PATH = os.getcwd()\n",
    "LABEL_PATH = os.path.join(CWD_PATH, 'labels')"
   ]
  },
  {
   "cell_type": "code",
   "execution_count": 33,
   "metadata": {},
   "outputs": [
    {
     "name": "stdout",
     "output_type": "stream",
     "text": [
      "kitti_label_map.pbtxt\n",
      "C:\\Users\\fabian.chan\\PycharmProjects\\explore-tf\\labels\\kitti_label_map.pbtxt\n",
      "mscoco_label_map.pbtxt\n",
      "C:\\Users\\fabian.chan\\PycharmProjects\\explore-tf\\labels\\mscoco_label_map.pbtxt\n",
      "oid_bbox_trainable_label_map.pbtxt\n",
      "C:\\Users\\fabian.chan\\PycharmProjects\\explore-tf\\labels\\oid_bbox_trainable_label_map.pbtxt\n",
      "pascal_label_map.pbtxt\n",
      "C:\\Users\\fabian.chan\\PycharmProjects\\explore-tf\\labels\\pascal_label_map.pbtxt\n",
      "pet_label_map.pbtxt\n",
      "C:\\Users\\fabian.chan\\PycharmProjects\\explore-tf\\labels\\pet_label_map.pbtxt\n"
     ]
    }
   ],
   "source": [
    "NUM_CLASSES = 90\n",
    "for file in os.listdir(LABEL_PATH):\n",
    "    path = os.path.join(LABEL_PATH, file)\n",
    "    label_map = label_map_util.load_labelmap(path)\n",
    "    categories = label_map_util.convert_label_map_to_categories(\n",
    "        label_map,\n",
    "        max_num_classes=NUM_CLASSES,\n",
    "        use_display_name=True\n",
    "    )\n",
    "    json_path = os.path.join(LABEL_PATH, file.split('.')[0] + '.json')\n",
    "    f = open(json_path, 'w')\n",
    "    json.dump(categories,f)\n",
    "    f.close()"
   ]
  },
  {
   "cell_type": "code",
   "execution_count": null,
   "metadata": {},
   "outputs": [],
   "source": []
  }
 ],
 "metadata": {
  "kernelspec": {
   "display_name": "Python 3",
   "language": "python",
   "name": "python3"
  },
  "language_info": {
   "codemirror_mode": {
    "name": "ipython",
    "version": 3
   },
   "file_extension": ".py",
   "mimetype": "text/x-python",
   "name": "python",
   "nbconvert_exporter": "python",
   "pygments_lexer": "ipython3",
   "version": "3.6.4"
  }
 },
 "nbformat": 4,
 "nbformat_minor": 2
}
