{
 "cells": [
  {
   "cell_type": "code",
   "execution_count": 1,
   "metadata": {},
   "outputs": [],
   "source": [
    "import os\n",
    "import json"
   ]
  },
  {
   "cell_type": "code",
   "execution_count": 2,
   "metadata": {},
   "outputs": [],
   "source": [
    "from submodules.models.research.object_detection.utils import label_map_util"
   ]
  },
  {
   "cell_type": "code",
   "execution_count": 3,
   "metadata": {},
   "outputs": [],
   "source": [
    "CWD_PATH = os.getcwd()\n",
    "LABEL_PATH = os.path.join(CWD_PATH, 'labels')"
   ]
  },
  {
   "cell_type": "code",
   "execution_count": 4,
   "metadata": {},
   "outputs": [],
   "source": [
    "NUM_CLASSES = 90\n",
    "for file in os.listdir(LABEL_PATH):\n",
    "    parts = file.split('.')\n",
    "    if parts[1] != 'pbtxt':\n",
    "        continue\n",
    "    path = os.path.join(LABEL_PATH, file)\n",
    "    label_map = label_map_util.load_labelmap(path)\n",
    "    categories = label_map_util.convert_label_map_to_categories(\n",
    "        label_map,\n",
    "        max_num_classes=NUM_CLASSES,\n",
    "        use_display_name=True\n",
    "    )\n",
    "    category_index = label_map_util.create_category_index(categories)\n",
    "    json_path = os.path.join(LABEL_PATH, parts[0] + '.json')\n",
    "    f = open(json_path, 'w')\n",
    "    json.dump(category_index,f)\n",
    "    f.close()"
   ]
  },
  {
   "cell_type": "code",
   "execution_count": null,
   "metadata": {},
   "outputs": [],
   "source": []
  }
 ],
 "metadata": {
  "kernelspec": {
   "display_name": "Python 3",
   "language": "python",
   "name": "python3"
  },
  "language_info": {
   "codemirror_mode": {
    "name": "ipython",
    "version": 3
   },
   "file_extension": ".py",
   "mimetype": "text/x-python",
   "name": "python",
   "nbconvert_exporter": "python",
   "pygments_lexer": "ipython3",
   "version": "3.6.4"
  }
 },
 "nbformat": 4,
 "nbformat_minor": 2
}
