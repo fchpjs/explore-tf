{
 "cells": [
  {
   "cell_type": "code",
   "execution_count": 1,
   "metadata": {},
   "outputs": [],
   "source": [
    "import os\n",
    "import six.moves.urllib as urllib\n",
    "import tarfile"
   ]
  },
  {
   "cell_type": "code",
   "execution_count": 2,
   "metadata": {},
   "outputs": [],
   "source": [
    "CWD_PATH = os.getcwd()\n",
    "MODEL_PATH = os.path.join(CWD_PATH, 'models')\n",
    "MODEL_PATH = os.path.abspath(MODEL_PATH)\n",
    "\n",
    "# What model to download.\n",
    "MODELS = [\n",
    "    'ssd_mobilenet_v1_coco_2017_11_17.tar.gz'\n",
    "#     'ssd_mobilenet_v2_coco_2018_03_29.tar.gz',\n",
    "#     'ssdlite_mobilenet_v2_coco_2018_05_09.tar.gz',\n",
    "#     'ssd_inception_v2_coco_2017_11_17.tar.gz',\n",
    "#     'faster_rcnn_inception_v2_coco_2018_01_28.tar.gz',\n",
    "#     'faster_rcnn_resnet50_coco_2018_01_28.tar.gz',\n",
    "#     'faster_rcnn_resnet101_coco_2018_01_28.tar.gz',\n",
    "#     'faster_rcnn_inception_resnet_v2_atrous_coco_2018_01_28.tar.gz',\n",
    "#     'faster_rcnn_nas_coco_2018_01_28.tar.gz'\n",
    "]\n",
    "        \n",
    "DOWNLOAD_BASE = 'http://download.tensorflow.org/models/object_detection/'"
   ]
  },
  {
   "cell_type": "code",
   "execution_count": 3,
   "metadata": {},
   "outputs": [
    {
     "name": "stdout",
     "output_type": "stream",
     "text": [
      "ssd_mobilenet_v1_coco_2017_11_17.tar.gz\n",
      "C:\\Users\\fabian.chan\\PycharmProjects\\magee\\models\\ssd_mobilenet_v1_coco_2017_11_17.tar.gz\n",
      "Skipping because previous download found...\n",
      "ssd_mobilenet_v2_coco_2018_03_29.tar.gz\n",
      "C:\\Users\\fabian.chan\\PycharmProjects\\magee\\models\\ssd_mobilenet_v2_coco_2018_03_29.tar.gz\n",
      "Skipping because previous download found...\n",
      "ssdlite_mobilenet_v2_coco_2018_05_09.tar.gz\n",
      "C:\\Users\\fabian.chan\\PycharmProjects\\magee\\models\\ssdlite_mobilenet_v2_coco_2018_05_09.tar.gz\n",
      "Skipping because previous download found...\n",
      "ssd_inception_v2_coco_2017_11_17.tar.gz\n",
      "C:\\Users\\fabian.chan\\PycharmProjects\\magee\\models\\ssd_inception_v2_coco_2017_11_17.tar.gz\n",
      "Skipping because previous download found...\n",
      "faster_rcnn_inception_v2_coco_2018_01_28.tar.gz\n",
      "C:\\Users\\fabian.chan\\PycharmProjects\\magee\\models\\faster_rcnn_inception_v2_coco_2018_01_28.tar.gz\n",
      "Skipping because previous download found...\n",
      "faster_rcnn_resnet50_coco_2018_01_28.tar.gz\n",
      "C:\\Users\\fabian.chan\\PycharmProjects\\magee\\models\\faster_rcnn_resnet50_coco_2018_01_28.tar.gz\n",
      "Skipping because previous download found...\n",
      "faster_rcnn_resnet101_coco_2018_01_28.tar.gz\n",
      "C:\\Users\\fabian.chan\\PycharmProjects\\magee\\models\\faster_rcnn_resnet101_coco_2018_01_28.tar.gz\n",
      "Skipping because previous download found...\n",
      "faster_rcnn_inception_resnet_v2_atrous_coco_2018_01_28.tar.gz\n",
      "C:\\Users\\fabian.chan\\PycharmProjects\\magee\\models\\faster_rcnn_inception_resnet_v2_atrous_coco_2018_01_28.tar.gz\n",
      "Skipping because previous download found...\n",
      "faster_rcnn_nas_coco_2018_01_28.tar.gz\n",
      "C:\\Users\\fabian.chan\\PycharmProjects\\magee\\models\\faster_rcnn_nas_coco_2018_01_28.tar.gz\n",
      "Skipping because previous download found...\n"
     ]
    }
   ],
   "source": [
    "#http://download.tensorflow.org/models/object_detection/ssdlite_mobilenet_v2_coco_2018_05_09.tar.gz\n",
    "def download_model(download_base, model_file, model_path):\n",
    "    opener = urllib.request.URLopener()\n",
    "    opener.retrieve(download_base + model_file, os.path.join(model_path, model_file))\n",
    "    tar_file = tarfile.open(os.path.join(model_path, model_file))\n",
    "    for file in tar_file.getmembers():\n",
    "      file_name = os.path.basename(file.name)\n",
    "      if 'frozen_inference_graph.pb' in file_name:\n",
    "        tar_file.extract(file, model_path)\n",
    "\n",
    "for model in MODELS:\n",
    "    print(model)\n",
    "    path = os.path.join(MODEL_PATH, model)\n",
    "    print(path)\n",
    "    if not os.path.exists(path):\n",
    "        print('Downloading...')\n",
    "        download_model(DOWNLOAD_BASE, model, MODEL_PATH)\n",
    "        print('Download complete...')\n",
    "    else:\n",
    "        print('Skipping because previous download found...')    "
   ]
  },
  {
   "cell_type": "code",
   "execution_count": null,
   "metadata": {},
   "outputs": [],
   "source": []
  }
 ],
 "metadata": {
  "kernelspec": {
   "display_name": "Python 3",
   "language": "python",
   "name": "python3"
  },
  "language_info": {
   "codemirror_mode": {
    "name": "ipython",
    "version": 3
   },
   "file_extension": ".py",
   "mimetype": "text/x-python",
   "name": "python",
   "nbconvert_exporter": "python",
   "pygments_lexer": "ipython3",
   "version": "3.6.4"
  }
 },
 "nbformat": 4,
 "nbformat_minor": 2
}
