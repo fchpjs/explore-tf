{
 "cells": [
  {
   "cell_type": "code",
   "execution_count": 1,
   "metadata": {},
   "outputs": [],
   "source": [
    "import os\n",
    "import cv2\n",
    "import tensorflow as tf\n",
    "import numpy as np\n",
    "import json"
   ]
  },
  {
   "cell_type": "code",
   "execution_count": 2,
   "metadata": {},
   "outputs": [],
   "source": [
    "from utilities import *"
   ]
  },
  {
   "cell_type": "code",
   "execution_count": 3,
   "metadata": {},
   "outputs": [],
   "source": [
    "MODEL_NAME = 'ssd_mobilenet_v1_coco_2017_11_17'\n",
    "#LABEL_MAP_NAME = 'mscoco_label_map.pbtxt'\n",
    "LABEL_MAP_NAME = 'mscoco_label_map.json'\n",
    "\n",
    "CWD_PATH = os.getcwd()\n",
    "MODELS_PATH = os.path.abspath(os.path.join(CWD_PATH, 'models'))\n",
    "LABELS_PATH = os.path.abspath(os.path.join(CWD_PATH, 'labels'))\n",
    "DATA_PATH = os.path.abspath(os.path.join(CWD_PATH, 'data'))\n",
    "\n",
    "VIDEO_FILE = 'videoplayback.mp4'\n",
    "VIDEO_PATH = os.path.join(DATA_PATH, VIDEO_FILE)\n",
    "\n",
    "MODEL_PATH = os.path.join(MODELS_PATH, MODEL_NAME, 'frozen_inference_graph.pb')\n",
    "LABEL_MAP_PATH = os.path.join(LABELS_PATH, LABEL_MAP_NAME)\n",
    "\n",
    "THRESHOLD = 0"
   ]
  },
  {
   "cell_type": "code",
   "execution_count": 4,
   "metadata": {},
   "outputs": [],
   "source": [
    "with open(LABEL_MAP_PATH) as json_file:\n",
    "    labels = json.load(json_file)"
   ]
  },
  {
   "cell_type": "code",
   "execution_count": 5,
   "metadata": {},
   "outputs": [
    {
     "data": {
      "text/plain": [
       "{'1': {'id': 1, 'name': 'person'},\n",
       " '10': {'id': 10, 'name': 'traffic light'},\n",
       " '11': {'id': 11, 'name': 'fire hydrant'},\n",
       " '13': {'id': 13, 'name': 'stop sign'},\n",
       " '14': {'id': 14, 'name': 'parking meter'},\n",
       " '15': {'id': 15, 'name': 'bench'},\n",
       " '16': {'id': 16, 'name': 'bird'},\n",
       " '17': {'id': 17, 'name': 'cat'},\n",
       " '18': {'id': 18, 'name': 'dog'},\n",
       " '19': {'id': 19, 'name': 'horse'},\n",
       " '2': {'id': 2, 'name': 'bicycle'},\n",
       " '20': {'id': 20, 'name': 'sheep'},\n",
       " '21': {'id': 21, 'name': 'cow'},\n",
       " '22': {'id': 22, 'name': 'elephant'},\n",
       " '23': {'id': 23, 'name': 'bear'},\n",
       " '24': {'id': 24, 'name': 'zebra'},\n",
       " '25': {'id': 25, 'name': 'giraffe'},\n",
       " '27': {'id': 27, 'name': 'backpack'},\n",
       " '28': {'id': 28, 'name': 'umbrella'},\n",
       " '3': {'id': 3, 'name': 'car'},\n",
       " '31': {'id': 31, 'name': 'handbag'},\n",
       " '32': {'id': 32, 'name': 'tie'},\n",
       " '33': {'id': 33, 'name': 'suitcase'},\n",
       " '34': {'id': 34, 'name': 'frisbee'},\n",
       " '35': {'id': 35, 'name': 'skis'},\n",
       " '36': {'id': 36, 'name': 'snowboard'},\n",
       " '37': {'id': 37, 'name': 'sports ball'},\n",
       " '38': {'id': 38, 'name': 'kite'},\n",
       " '39': {'id': 39, 'name': 'baseball bat'},\n",
       " '4': {'id': 4, 'name': 'motorcycle'},\n",
       " '40': {'id': 40, 'name': 'baseball glove'},\n",
       " '41': {'id': 41, 'name': 'skateboard'},\n",
       " '42': {'id': 42, 'name': 'surfboard'},\n",
       " '43': {'id': 43, 'name': 'tennis racket'},\n",
       " '44': {'id': 44, 'name': 'bottle'},\n",
       " '46': {'id': 46, 'name': 'wine glass'},\n",
       " '47': {'id': 47, 'name': 'cup'},\n",
       " '48': {'id': 48, 'name': 'fork'},\n",
       " '49': {'id': 49, 'name': 'knife'},\n",
       " '5': {'id': 5, 'name': 'airplane'},\n",
       " '50': {'id': 50, 'name': 'spoon'},\n",
       " '51': {'id': 51, 'name': 'bowl'},\n",
       " '52': {'id': 52, 'name': 'banana'},\n",
       " '53': {'id': 53, 'name': 'apple'},\n",
       " '54': {'id': 54, 'name': 'sandwich'},\n",
       " '55': {'id': 55, 'name': 'orange'},\n",
       " '56': {'id': 56, 'name': 'broccoli'},\n",
       " '57': {'id': 57, 'name': 'carrot'},\n",
       " '58': {'id': 58, 'name': 'hot dog'},\n",
       " '59': {'id': 59, 'name': 'pizza'},\n",
       " '6': {'id': 6, 'name': 'bus'},\n",
       " '60': {'id': 60, 'name': 'donut'},\n",
       " '61': {'id': 61, 'name': 'cake'},\n",
       " '62': {'id': 62, 'name': 'chair'},\n",
       " '63': {'id': 63, 'name': 'couch'},\n",
       " '64': {'id': 64, 'name': 'potted plant'},\n",
       " '65': {'id': 65, 'name': 'bed'},\n",
       " '67': {'id': 67, 'name': 'dining table'},\n",
       " '7': {'id': 7, 'name': 'train'},\n",
       " '70': {'id': 70, 'name': 'toilet'},\n",
       " '72': {'id': 72, 'name': 'tv'},\n",
       " '73': {'id': 73, 'name': 'laptop'},\n",
       " '74': {'id': 74, 'name': 'mouse'},\n",
       " '75': {'id': 75, 'name': 'remote'},\n",
       " '76': {'id': 76, 'name': 'keyboard'},\n",
       " '77': {'id': 77, 'name': 'cell phone'},\n",
       " '78': {'id': 78, 'name': 'microwave'},\n",
       " '79': {'id': 79, 'name': 'oven'},\n",
       " '8': {'id': 8, 'name': 'truck'},\n",
       " '80': {'id': 80, 'name': 'toaster'},\n",
       " '81': {'id': 81, 'name': 'sink'},\n",
       " '82': {'id': 82, 'name': 'refrigerator'},\n",
       " '84': {'id': 84, 'name': 'book'},\n",
       " '85': {'id': 85, 'name': 'clock'},\n",
       " '86': {'id': 86, 'name': 'vase'},\n",
       " '87': {'id': 87, 'name': 'scissors'},\n",
       " '88': {'id': 88, 'name': 'teddy bear'},\n",
       " '89': {'id': 89, 'name': 'hair drier'},\n",
       " '9': {'id': 9, 'name': 'boat'},\n",
       " '90': {'id': 90, 'name': 'toothbrush'}}"
      ]
     },
     "execution_count": 5,
     "metadata": {},
     "output_type": "execute_result"
    }
   ],
   "source": [
    "labels"
   ]
  },
  {
   "cell_type": "code",
   "execution_count": 6,
   "metadata": {},
   "outputs": [],
   "source": [
    "detection_graph = tf.Graph()\n",
    "with detection_graph.as_default():\n",
    "    od_graph_def = tf.GraphDef()\n",
    "    with tf.gfile.GFile(MODEL_PATH, 'rb') as fid:\n",
    "        serialized_graph = fid.read()\n",
    "        od_graph_def.ParseFromString(serialized_graph)\n",
    "        tf.import_graph_def(od_graph_def, name='')"
   ]
  },
  {
   "cell_type": "code",
   "execution_count": 7,
   "metadata": {},
   "outputs": [],
   "source": [
    "def filter_boxes(min_score, boxes, scores, classes, categories):\n",
    "    \"\"\"Return boxes with a confidence >= `min_score`\"\"\"\n",
    "    n = len(classes)\n",
    "    idxs = []\n",
    "    \n",
    "    for i in range(n):\n",
    "        if scores[i]>=min_score:\n",
    "            idxs.append(i)\n",
    "    \n",
    "    filtered_boxes = boxes[idxs, ...]\n",
    "    filtered_scores = scores[idxs, ...]\n",
    "    filtered_classes = classes[idxs, ...]\n",
    "    return filtered_boxes, filtered_scores, filtered_classes\n",
    "\n"
   ]
  },
  {
   "cell_type": "code",
   "execution_count": 8,
   "metadata": {},
   "outputs": [],
   "source": [
    " def detect_objects(image_np, sess, detection_graph, threshold=0):\n",
    "        # Expand dimensions since the model expects images to have shape: [1, None, None, 3]\n",
    "        image_np_expanded = np.expand_dims(image_np, axis=0)\n",
    "        image_tensor = detection_graph.get_tensor_by_name('image_tensor:0')\n",
    "\n",
    "        # Each box represents a part of the image where a particular object was detected.\n",
    "        boxes = detection_graph.get_tensor_by_name('detection_boxes:0')\n",
    "\n",
    "        # Each score represent level of confidence for each of the objects.\n",
    "        scores = detection_graph.get_tensor_by_name('detection_scores:0')\n",
    "        classes = detection_graph.get_tensor_by_name('detection_classes:0')\n",
    "        num_detections = detection_graph.get_tensor_by_name('num_detections:0')\n",
    "\n",
    "        # Actual detection.\n",
    "        (boxes, scores, classes, num_detections) = sess.run(\n",
    "            [boxes, scores, classes, num_detections],\n",
    "            feed_dict={image_tensor: image_np_expanded})\n",
    "        \n",
    "        boxes, scores, classes, = filter_boxes(0.95, boxes[0], scores[0], classes[0], 1)\n",
    "\n",
    "        return (boxes, scores, classes, num_detections)"
   ]
  },
  {
   "cell_type": "code",
   "execution_count": null,
   "metadata": {
    "scrolled": true
   },
   "outputs": [
    {
     "name": "stdout",
     "output_type": "stream",
     "text": [
      "19\n",
      "23\n",
      "23\n",
      "23\n",
      "25\n",
      "1\n",
      "1\n",
      "24\n",
      "24\n",
      "24\n"
     ]
    }
   ],
   "source": [
    "# WEBCAM\n",
    "# video_stream = VideoStream(src=0).start() \n",
    "# VIDEO File\n",
    "video_stream = VideoStream(src=VIDEO_PATH).start()\n",
    "sess = tf.Session(graph=detection_graph) \n",
    "    \n",
    "while video_stream.grabbed:\n",
    "    frame, counter = video_stream.read()\n",
    "    \n",
    "    # do some zoo model detection on the frame\n",
    "    data = detect_objects(frame, sess, detection_graph)\n",
    "    \n",
    "    height = frame.shape[0]\n",
    "    width = frame.shape[1]\n",
    "    \n",
    "    count = 0 \n",
    "    for item in data[0]:\n",
    "        obj = str(int(data[2][count]))\n",
    "        print(obj)\n",
    "\n",
    "        cv2.putText(\n",
    "            frame,\n",
    "            labels[obj][\"name\"] + \" - \" ,\n",
    "            (int(width * item[1]), int(height * item[0])),\n",
    "            cv2.FONT_HERSHEY_SIMPLEX,\n",
    "            0.5,\n",
    "            (255, 255, 255),\n",
    "            1,\n",
    "            cv2.LINE_AA\n",
    "        )\n",
    "\n",
    "        cv2.rectangle(\n",
    "            frame,\n",
    "            (int(width * item[1]), int(height * item[0])), \n",
    "            (int(width * item[3]), int(height * item[2])), \n",
    "            (0, 255, 0),\n",
    "            1\n",
    "        )\n",
    "        count = count + 1\n",
    "        \n",
    "    \n",
    "    cv2.imshow('frame', frame)\n",
    "    \n",
    "    if cv2.waitKey(1) & 0xFF == ord('q'):\n",
    "        break\n",
    "video_stream.stop()\n",
    "cv2.destroyAllWindows()\n",
    "cv2.waitKey(1000) # to autoclose window after a few seconds"
   ]
  },
  {
   "cell_type": "code",
   "execution_count": null,
   "metadata": {},
   "outputs": [],
   "source": []
  }
 ],
 "metadata": {
  "kernelspec": {
   "display_name": "Python 3",
   "language": "python",
   "name": "python3"
  },
  "language_info": {
   "codemirror_mode": {
    "name": "ipython",
    "version": 3
   },
   "file_extension": ".py",
   "mimetype": "text/x-python",
   "name": "python",
   "nbconvert_exporter": "python",
   "pygments_lexer": "ipython3",
   "version": "3.5.5"
  }
 },
 "nbformat": 4,
 "nbformat_minor": 2
}
