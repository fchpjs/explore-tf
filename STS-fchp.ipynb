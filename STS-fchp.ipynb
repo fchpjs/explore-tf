{
 "cells": [
  {
   "cell_type": "code",
   "execution_count": 1,
   "metadata": {},
   "outputs": [],
   "source": [
    "import os\n",
    "import cv2\n",
    "import tensorflow as tf\n",
    "import numpy as np\n",
    "import json"
   ]
  },
  {
   "cell_type": "code",
   "execution_count": 2,
   "metadata": {},
   "outputs": [],
   "source": [
    "from utilities import *"
   ]
  },
  {
   "cell_type": "code",
   "execution_count": 3,
   "metadata": {},
   "outputs": [],
   "source": [
    "MODEL_NAME = 'ssd_mobilenet_v1_coco_2017_11_17'\n",
    "#LABEL_MAP_NAME = 'mscoco_label_map.pbtxt'\n",
    "LABEL_MAP_NAME = 'mscoco_label_map.json'\n",
    "\n",
    "CWD_PATH = os.getcwd()\n",
    "MODELS_PATH = os.path.abspath(os.path.join(CWD_PATH, 'models'))\n",
    "LABELS_PATH = os.path.abspath(os.path.join(CWD_PATH, 'labels'))\n",
    "DATA_PATH = os.path.abspath(os.path.join(CWD_PATH, 'data'))\n",
    "\n",
    "VIDEO_FILE = 'cows.mp4'\n",
    "VIDEO_PATH = os.path.join(DATA_PATH, VIDEO_FILE)\n",
    "\n",
    "MODEL_PATH = os.path.join(MODELS_PATH, MODEL_NAME, 'frozen_inference_graph.pb')\n",
    "LABEL_MAP_PATH = os.path.join(LABELS_PATH, LABEL_MAP_NAME)\n",
    "\n",
    "THRESHOLD = 0"
   ]
  },
  {
   "cell_type": "code",
   "execution_count": 7,
   "metadata": {},
   "outputs": [
    {
     "ename": "FileNotFoundError",
     "evalue": "[Errno 2] No such file or directory: 'C:\\\\Users\\\\fabian.chan\\\\PycharmProjects\\\\explore-tf\\\\labels\\\\mscoco_label_map.json'",
     "output_type": "error",
     "traceback": [
      "\u001b[0;31m---------------------------------------------------------------------------\u001b[0m",
      "\u001b[0;31mFileNotFoundError\u001b[0m                         Traceback (most recent call last)",
      "\u001b[0;32m<ipython-input-7-35b6ed63bb53>\u001b[0m in \u001b[0;36m<module>\u001b[0;34m()\u001b[0m\n\u001b[0;32m----> 1\u001b[0;31m \u001b[0;32mwith\u001b[0m \u001b[0mopen\u001b[0m\u001b[0;34m(\u001b[0m\u001b[0mLABEL_MAP_PATH\u001b[0m\u001b[0;34m)\u001b[0m \u001b[0;32mas\u001b[0m \u001b[0mjson_file\u001b[0m\u001b[0;34m:\u001b[0m\u001b[0;34m\u001b[0m\u001b[0m\n\u001b[0m\u001b[1;32m      2\u001b[0m     \u001b[0mlabels\u001b[0m \u001b[0;34m=\u001b[0m \u001b[0mjson\u001b[0m\u001b[0;34m.\u001b[0m\u001b[0mload\u001b[0m\u001b[0;34m(\u001b[0m\u001b[0mjson_file\u001b[0m\u001b[0;34m)\u001b[0m\u001b[0;34m\u001b[0m\u001b[0m\n",
      "\u001b[0;31mFileNotFoundError\u001b[0m: [Errno 2] No such file or directory: 'C:\\\\Users\\\\fabian.chan\\\\PycharmProjects\\\\explore-tf\\\\labels\\\\mscoco_label_map.json'"
     ]
    }
   ],
   "source": [
    "with open(LABEL_MAP_PATH) as json_file:\n",
    "    labels = json.load(json_file)"
   ]
  },
  {
   "cell_type": "code",
   "execution_count": 10,
   "metadata": {},
   "outputs": [
    {
     "name": "stdout",
     "output_type": "stream",
     "text": [
      "C:\\Users\\fabian.chan\\PycharmProjects\\explore-tf\\models\\ssd_mobilenet_v1_coco_2017_11_17\\frozen_inference_graph.pb\n",
      "C:\\Users\\fabian.chan\\PycharmProjects\\explore-tf\\labels\\mscoco_label_map.pbtxt\n"
     ]
    }
   ],
   "source": [
    "print(MODEL_PATH)\n",
    "print(LABEL_MAP_PATH)"
   ]
  },
  {
   "cell_type": "code",
   "execution_count": 11,
   "metadata": {},
   "outputs": [],
   "source": [
    "detection_graph = tf.Graph()\n",
    "with detection_graph.as_default():\n",
    "    od_graph_def = tf.GraphDef()\n",
    "    with tf.gfile.GFile(MODEL_PATH, 'rb') as fid:\n",
    "        serialized_graph = fid.read()\n",
    "        od_graph_def.ParseFromString(serialized_graph)\n",
    "        tf.import_graph_def(od_graph_def, name='')"
   ]
  },
  {
   "cell_type": "code",
   "execution_count": 19,
   "metadata": {},
   "outputs": [],
   "source": [
    " def detect_objects(image_np, sess, detection_graph, threshold=0):\n",
    "        # Expand dimensions since the model expects images to have shape: [1, None, None, 3]\n",
    "        image_np_expanded = np.expand_dims(image_np, axis=0)\n",
    "        image_tensor = detection_graph.get_tensor_by_name('image_tensor:0')\n",
    "\n",
    "        # Each box represents a part of the image where a particular object was detected.\n",
    "        boxes = detection_graph.get_tensor_by_name('detection_boxes:0')\n",
    "\n",
    "        # Each score represent level of confidence for each of the objects.\n",
    "        scores = detection_graph.get_tensor_by_name('detection_scores:0')\n",
    "        classes = detection_graph.get_tensor_by_name('detection_classes:0')\n",
    "        num_detections = detection_graph.get_tensor_by_name('num_detections:0')\n",
    "\n",
    "        # Actual detection.\n",
    "        (boxes, scores, classes, num_detections) = sess.run(\n",
    "            [boxes, scores, classes, num_detections],\n",
    "            feed_dict={image_tensor: image_np_expanded})\n",
    "        return (boxes, scores, classes, num_detections)\n",
    "        # filter for target classes within threshold\n",
    "        boxes = np.squeeze(boxes)\n",
    "        classes = np.squeeze(classes)\n",
    "        scores = np.squeeze(scores)\n",
    "        ix_scores = scores >= threshold\n",
    "        ix = ix_classes * ix_scores\n",
    "        tf_data = [boxes[ix], np.extract(ix, classes), np.extract(ix, scores)]\n",
    "\n",
    "        return tf_data"
   ]
  },
  {
   "cell_type": "code",
   "execution_count": 30,
   "metadata": {},
   "outputs": [],
   "source": [
    "# WEBCAM\n",
    "#video_stream = VideoStream(src=0).start() \n",
    "# VIDEO File\n",
    "video_stream = VideoStream(src=VIDEO_PATH).start()\n",
    "while video_stream.grabbed:\n",
    "    frame, counter = video_stream.read()\n",
    "    \n",
    "    # do some zoo model detection on the frame\n",
    "#     with detection_graph.as_default():\n",
    "#         with tf.Session(graph=detection_graph) as sess:\n",
    "#             data = detect_objects(frame, sess, detection_graph)\n",
    "#     print(data)\n",
    "    height = frame.shape[0]\n",
    "    width = frame.shape[1]\n",
    "    \n",
    "    for item in data[0][0]:\n",
    "        cv2.rectangle(\n",
    "            frame,\n",
    "            (int(width * item[1]), int(height * item[0])), \n",
    "            (int(width * item[3]), int(height * item[2])), \n",
    "            (0, 255, 0),\n",
    "            1\n",
    "        )\n",
    "        \n",
    "    \n",
    "    cv2.imshow('frame', frame)\n",
    "    \n",
    "    if cv2.waitKey(1) & 0xFF == ord('q'):\n",
    "        break\n",
    "video_stream.stop()\n",
    "cv2.destroyAllWindows()"
   ]
  },
  {
   "cell_type": "code",
   "execution_count": 26,
   "metadata": {},
   "outputs": [
    {
     "data": {
      "text/plain": [
       "(1080, 1920, 3)"
      ]
     },
     "execution_count": 26,
     "metadata": {},
     "output_type": "execute_result"
    }
   ],
   "source": [
    "frame.shape"
   ]
  },
  {
   "cell_type": "code",
   "execution_count": 29,
   "metadata": {},
   "outputs": [
    {
     "data": {
      "text/plain": [
       "array([[0.3248309 , 0.49664423, 0.59975356, 0.59468937],\n",
       "       [0.38548434, 0.66678685, 0.66046584, 0.8367489 ],\n",
       "       [0.34657553, 0.39204016, 0.61214197, 0.52060586],\n",
       "       [0.34657553, 0.39204016, 0.61214197, 0.52060586],\n",
       "       [0.35224354, 0.4276129 , 0.6171329 , 0.5463513 ],\n",
       "       [0.41182894, 0.2962485 , 0.55053806, 0.38318932],\n",
       "       [0.3248309 , 0.49664423, 0.59975356, 0.59468937],\n",
       "       [0.38618585, 0.67003745, 0.6627948 , 0.8367935 ],\n",
       "       [0.46798843, 0.8990146 , 0.59496385, 0.9878262 ],\n",
       "       [0.34657553, 0.39204016, 0.61214197, 0.52060586],\n",
       "       [0.41182894, 0.2962485 , 0.55053806, 0.38318932],\n",
       "       [0.3301196 , 0.4282054 , 0.6032401 , 0.5512619 ],\n",
       "       [0.41182894, 0.2962485 , 0.55053806, 0.38318932],\n",
       "       [0.38618585, 0.67003745, 0.6627948 , 0.8367935 ],\n",
       "       [0.47218603, 0.91978544, 0.59303766, 0.98388654],\n",
       "       [0.3248309 , 0.49664423, 0.59975356, 0.59468937],\n",
       "       [0.4457125 , 0.2781114 , 0.5457335 , 0.32546836],\n",
       "       [0.3748945 , 0.65633357, 0.5566829 , 0.85654294],\n",
       "       [0.391805  , 0.27528724, 0.5678465 , 0.3964195 ],\n",
       "       [0.46326718, 0.5233776 , 0.6078986 , 0.580319  ],\n",
       "       [0.3259183 , 0.50190157, 0.4947662 , 0.5899016 ],\n",
       "       [0.39733082, 0.5197159 , 0.60197306, 0.59121907],\n",
       "       [0.47720712, 0.42526078, 0.6058393 , 0.48690462],\n",
       "       [0.19730039, 0.30346337, 0.57136387, 0.85863924],\n",
       "       [0.42407608, 0.36943552, 0.5656869 , 0.41460893],\n",
       "       [0.36397508, 0.9672158 , 0.60149837, 0.9970784 ],\n",
       "       [0.41595936, 0.47455293, 0.5900352 , 0.52613646],\n",
       "       [0.36068952, 0.5167053 , 0.6065128 , 0.6283195 ],\n",
       "       [0.77453196, 0.6292358 , 1.        , 0.79482394],\n",
       "       [0.39069456, 0.19043411, 0.49180937, 0.21375714],\n",
       "       [0.46326718, 0.5233776 , 0.6078986 , 0.580319  ],\n",
       "       [0.3924416 , 0.6957007 , 0.5224538 , 0.8201042 ],\n",
       "       [0.41782284, 0.6836165 , 0.48368156, 0.73865044],\n",
       "       [0.2636351 , 0.24883813, 0.4743281 , 0.91823274],\n",
       "       [0.47042745, 0.9357991 , 0.9439818 , 0.99326766],\n",
       "       [0.4773211 , 0.4910736 , 0.60291857, 0.5426159 ],\n",
       "       [0.01094285, 0.5513252 , 0.38263336, 0.6657795 ],\n",
       "       [0.6306697 , 0.19882247, 0.9082655 , 0.3642544 ],\n",
       "       [0.61677814, 0.2565039 , 0.9215082 , 0.4112166 ],\n",
       "       [0.46798843, 0.8990146 , 0.59496385, 0.9878262 ],\n",
       "       [0.33340636, 0.47310758, 0.49226674, 0.5205619 ],\n",
       "       [0.36510837, 0.46389326, 0.58110684, 0.51737005],\n",
       "       [0.012536  , 0.6140686 , 0.4019255 , 0.7168455 ],\n",
       "       [0.35099968, 0.30235666, 0.5956973 , 0.8426413 ],\n",
       "       [0.78249836, 0.58798206, 1.        , 0.74489117],\n",
       "       [0.6289748 , 0.46423745, 1.        , 0.66385114],\n",
       "       [0.25996464, 0.19669974, 0.50524074, 0.7307649 ],\n",
       "       [0.31785727, 0.40276062, 0.500659  , 0.59218657],\n",
       "       [0.4353492 , 0.8002538 , 0.61113966, 0.840697  ],\n",
       "       [0.38405138, 0.7172533 , 0.42795503, 0.8150816 ],\n",
       "       [0.37703764, 0.6736215 , 0.68948233, 0.96259874],\n",
       "       [0.4683262 , 0.35682148, 0.6193969 , 0.564782  ],\n",
       "       [0.43022287, 0.68194544, 0.56193304, 0.7505903 ],\n",
       "       [0.3351953 , 0.6467139 , 0.48728514, 0.87568694],\n",
       "       [0.35391888, 0.38537842, 0.7018002 , 0.8788015 ],\n",
       "       [0.50452894, 0.651384  , 0.67415994, 0.84334004],\n",
       "       [0.4419086 , 0.8838694 , 0.6228608 , 0.9940375 ],\n",
       "       [0.42547646, 0.56440794, 0.57392406, 0.61820173],\n",
       "       [0.32039472, 0.49972546, 0.40048215, 0.5815594 ],\n",
       "       [0.40530992, 0.5258454 , 0.65978265, 0.6459402 ],\n",
       "       [0.41504914, 0.40726882, 0.593407  , 0.4803005 ],\n",
       "       [0.6016971 , 0.33362982, 0.9423119 , 0.47772035],\n",
       "       [0.42407608, 0.36943552, 0.5656869 , 0.41460893],\n",
       "       [0.31077   , 0.9257224 , 0.6006744 , 0.996355  ],\n",
       "       [0.37904924, 0.49351072, 0.67556304, 0.8328208 ],\n",
       "       [0.07722259, 0.18317965, 0.44250536, 0.2803027 ],\n",
       "       [0.41010958, 0.7972833 , 0.53378457, 0.83449244],\n",
       "       [0.        , 0.00288254, 0.9088689 , 0.26834208],\n",
       "       [0.5121689 , 0.3217041 , 0.98576975, 0.5841759 ],\n",
       "       [0.49334577, 0.7870207 , 0.6359476 , 0.8318633 ],\n",
       "       [0.24393834, 0.37254244, 0.54886913, 0.73664707],\n",
       "       [0.501937  , 0.386091  , 0.60410064, 0.42175138],\n",
       "       [0.40478805, 0.46387082, 0.5827862 , 0.7005791 ],\n",
       "       [0.60993946, 0.36517158, 1.        , 0.55489075],\n",
       "       [0.02681112, 0.49056542, 0.36754012, 0.5935025 ],\n",
       "       [0.39715135, 0.47791338, 0.66871214, 0.9289069 ],\n",
       "       [0.4457125 , 0.2781114 , 0.5457335 , 0.32546836],\n",
       "       [0.34000605, 0.733796  , 0.60081714, 0.8756516 ],\n",
       "       [0.        , 0.3569428 , 0.4750933 , 0.9687706 ],\n",
       "       [0.03414944, 0.23036957, 0.40681708, 0.35618782],\n",
       "       [0.41182894, 0.2962485 , 0.55053806, 0.38318932],\n",
       "       [0.31888887, 0.46402702, 0.4856477 , 0.6964167 ],\n",
       "       [0.4457125 , 0.2781114 , 0.5457335 , 0.32546836],\n",
       "       [0.4311525 , 0.70780706, 0.5599023 , 0.8005302 ],\n",
       "       [0.26654303, 0.22331929, 0.5452433 , 0.28080976],\n",
       "       [0.33979475, 0.4214692 , 0.48860383, 0.5044661 ],\n",
       "       [0.30729723, 0.2242758 , 0.5247195 , 0.25237378],\n",
       "       [0.33169204, 0.60117817, 0.49309278, 0.8385699 ],\n",
       "       [0.7193394 , 0.31331968, 0.80177104, 0.37589622],\n",
       "       [0.1129084 , 0.43223697, 0.36243847, 0.56600404],\n",
       "       [0.7620036 , 0.6765671 , 1.        , 0.86152756],\n",
       "       [0.46857303, 0.8331601 , 0.6039892 , 1.        ],\n",
       "       [0.06163752, 0.24339922, 0.44975483, 0.65318245],\n",
       "       [0.48342597, 0.5613865 , 0.5984571 , 0.6092338 ],\n",
       "       [0.40942675, 0.26178828, 0.63250977, 0.89932775],\n",
       "       [0.70912755, 0.        , 1.        , 0.3686184 ],\n",
       "       [0.55735433, 0.19955006, 0.5769632 , 0.21144   ],\n",
       "       [0.3382491 , 0.15455474, 0.5894856 , 0.6311785 ],\n",
       "       [0.47720712, 0.42526078, 0.6058393 , 0.48690462],\n",
       "       [0.42664745, 0.12900196, 0.47762117, 0.15248208]], dtype=float32)"
      ]
     },
     "execution_count": 29,
     "metadata": {},
     "output_type": "execute_result"
    }
   ],
   "source": [
    "data[0][0]"
   ]
  },
  {
   "cell_type": "code",
   "execution_count": null,
   "metadata": {},
   "outputs": [],
   "source": []
  }
 ],
 "metadata": {
  "kernelspec": {
   "display_name": "Python 3",
   "language": "python",
   "name": "python3"
  },
  "language_info": {
   "codemirror_mode": {
    "name": "ipython",
    "version": 3
   },
   "file_extension": ".py",
   "mimetype": "text/x-python",
   "name": "python",
   "nbconvert_exporter": "python",
   "pygments_lexer": "ipython3",
   "version": "3.6.4"
  }
 },
 "nbformat": 4,
 "nbformat_minor": 2
}
