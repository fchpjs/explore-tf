{
 "cells": [
  {
   "cell_type": "code",
   "execution_count": 5,
   "metadata": {},
   "outputs": [],
   "source": [
    "import os\n",
    "import cv2\n",
    "import tensorflow as tf"
   ]
  },
  {
   "cell_type": "code",
   "execution_count": 6,
   "metadata": {},
   "outputs": [],
   "source": [
    "from utilities import *"
   ]
  },
  {
   "cell_type": "code",
   "execution_count": 9,
   "metadata": {},
   "outputs": [],
   "source": [
    "MODEL_NAME = 'ssd_mobilenet_v1_coco_2017_11_17'\n",
    "LABEL_MAP_NAME = 'mscoco_label_map.pbtxt'\n",
    "\n",
    "CWD_PATH = os.getcwd()\n",
    "MODELS_PATH = os.path.abspath(os.path.join(CWD_PATH, 'models'))\n",
    "LABELS_PATH = os.path.abspath(os.path.join(CWD_PATH, 'labels'))\n",
    "\n",
    "MODEL_PATH = os.path.join(MODELS_PATH, MODEL_NAME, 'frozen_inference_graph.pb')\n",
    "LABEL_MAP_PATH = os.path.join(LABELS_PATH, LABEL_MAP_NAME)"
   ]
  },
  {
   "cell_type": "code",
   "execution_count": 12,
   "metadata": {},
   "outputs": [
    {
     "name": "stdout",
     "output_type": "stream",
     "text": [
      "C:\\Users\\fabian.chan\\PycharmProjects\\magee\\models\\ssd_mobilenet_v1_coco_2017_11_17\\frozen_inference_graph.pb\n",
      "C:\\Users\\fabian.chan\\PycharmProjects\\magee\\labels\\mscoco_label_map.pbtxt\n"
     ]
    }
   ],
   "source": [
    "print(MODEL_PATH)\n",
    "print(LABEL_MAP_PATH)"
   ]
  },
  {
   "cell_type": "code",
   "execution_count": 11,
   "metadata": {},
   "outputs": [],
   "source": [
    "detection_graph = tf.Graph()\n",
    "with detection_graph.as_default():\n",
    "    od_graph_def = tf.GraphDef()\n",
    "    with tf.gfile.GFile(MODEL_PATH, 'rb') as fid:\n",
    "        serialized_graph = fid.read()\n",
    "        od_graph_def.ParseFromString(serialized_graph)\n",
    "        tf.import_graph_def(od_graph_def, name='')"
   ]
  },
  {
   "cell_type": "code",
   "execution_count": 11,
   "metadata": {},
   "outputs": [],
   "source": [
    "video_stream = VideoStream(src=0).start()\n",
    "while video_stream.grabbed:\n",
    "    frame, counter = video_stream.read()\n",
    "    \n",
    "    # do some zoo model detection on the frame\n",
    "    # frame = some_process(frame)\n",
    "    \n",
    "    cv2.imshow('frame', frame)\n",
    "    \n",
    "    if cv2.waitKey(1) & 0xFF == ord('q'):\n",
    "        break\n",
    "video_stream.stop()\n",
    "#video_stream.release()\n",
    "cv2.destroyAllWindows()"
   ]
  },
  {
   "cell_type": "code",
   "execution_count": null,
   "metadata": {},
   "outputs": [],
   "source": []
  }
 ],
 "metadata": {
  "kernelspec": {
   "display_name": "Python 3",
   "language": "python",
   "name": "python3"
  },
  "language_info": {
   "codemirror_mode": {
    "name": "ipython",
    "version": 3
   },
   "file_extension": ".py",
   "mimetype": "text/x-python",
   "name": "python",
   "nbconvert_exporter": "python",
   "pygments_lexer": "ipython3",
   "version": "3.6.4"
  }
 },
 "nbformat": 4,
 "nbformat_minor": 2
}
