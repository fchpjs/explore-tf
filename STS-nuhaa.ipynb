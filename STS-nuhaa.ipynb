{
 "cells": [
  {
   "cell_type": "code",
   "execution_count": 1,
   "metadata": {},
   "outputs": [],
   "source": [
    "import os\n",
    "import cv2\n",
    "import tensorflow as tf\n",
    "import numpy as np\n",
    "import json"
   ]
  },
  {
   "cell_type": "code",
   "execution_count": 2,
   "metadata": {},
   "outputs": [],
   "source": [
    "from utilities import *"
   ]
  },
  {
   "cell_type": "code",
   "execution_count": 3,
   "metadata": {},
   "outputs": [],
   "source": [
    "MODEL_NAME = 'ssd_mobilenet_v1_coco_2017_11_17'\n",
    "#LABEL_MAP_NAME = 'mscoco_label_map.pbtxt'\n",
    "LABEL_MAP_NAME = 'mscoco_label_map.json'\n",
    "\n",
    "CWD_PATH = os.getcwd()\n",
    "MODELS_PATH = os.path.abspath(os.path.join(CWD_PATH, 'models'))\n",
    "LABELS_PATH = os.path.abspath(os.path.join(CWD_PATH, 'labels'))\n",
    "DATA_PATH = os.path.abspath(os.path.join(CWD_PATH, 'data'))\n",
    "\n",
    "VIDEO_FILE = 'cows.mp4'\n",
    "VIDEO_PATH = os.path.join(DATA_PATH, VIDEO_FILE)\n",
    "\n",
    "MODEL_PATH = os.path.join(MODELS_PATH, MODEL_NAME, 'frozen_inference_graph.pb')\n",
    "LABEL_MAP_PATH = os.path.join(LABELS_PATH, LABEL_MAP_NAME)\n",
    "\n",
    "THRESHOLD = 0"
   ]
  },
  {
   "cell_type": "code",
   "execution_count": 4,
   "metadata": {},
   "outputs": [],
   "source": [
    "with open(LABEL_MAP_PATH) as json_file:\n",
    "    labels = json.load(json_file)"
   ]
  },
  {
   "cell_type": "code",
   "execution_count": 5,
   "metadata": {},
   "outputs": [
    {
     "data": {
      "text/plain": [
       "{'id': 1, 'name': 'person'}"
      ]
     },
     "execution_count": 5,
     "metadata": {},
     "output_type": "execute_result"
    }
   ],
   "source": [
    "labels['1']"
   ]
  },
  {
   "cell_type": "code",
   "execution_count": 6,
   "metadata": {},
   "outputs": [],
   "source": [
    "detection_graph = tf.Graph()\n",
    "with detection_graph.as_default():\n",
    "    od_graph_def = tf.GraphDef()\n",
    "    with tf.gfile.GFile(MODEL_PATH, 'rb') as fid:\n",
    "        serialized_graph = fid.read()\n",
    "        od_graph_def.ParseFromString(serialized_graph)\n",
    "        tf.import_graph_def(od_graph_def, name='')"
   ]
  },
  {
   "cell_type": "code",
   "execution_count": 7,
   "metadata": {},
   "outputs": [],
   "source": [
    "def filter_boxes(min_score, boxes, scores, classes, categories=21):\n",
    "    \"\"\"Return boxes with a confidence >= `min_score`\"\"\"\n",
    "    n = len(classes)\n",
    "    idxs = []\n",
    "    for i in range(n):\n",
    "        if classes[i] == categories and scores[i]>=min_score:\n",
    "            idxs.append(i)\n",
    "    \n",
    "    filtered_boxes = boxes[idxs, ...]\n",
    "    filtered_scores = scores[idxs, ...]\n",
    "    filtered_classes = classes[idxs, ...]\n",
    "    return filtered_boxes, filtered_scores, filtered_classes"
   ]
  },
  {
   "cell_type": "code",
   "execution_count": 8,
   "metadata": {},
   "outputs": [],
   "source": [
    " def detect_objects(image_np, sess, detection_graph, threshold=0.95):\n",
    "        # Expand dimensions since the model expects images to have shape: [1, None, None, 3]\n",
    "        image_np_expanded = np.expand_dims(image_np, axis=0)\n",
    "        image_tensor = detection_graph.get_tensor_by_name('image_tensor:0')\n",
    "\n",
    "        # Each box represents a part of the image where a particular object was detected.\n",
    "        boxes = detection_graph.get_tensor_by_name('detection_boxes:0')\n",
    "\n",
    "        # Each score represent level of confidence for each of the objects.\n",
    "        scores = detection_graph.get_tensor_by_name('detection_scores:0')\n",
    "        classes = detection_graph.get_tensor_by_name('detection_classes:0')\n",
    "        num_detections = detection_graph.get_tensor_by_name('num_detections:0')\n",
    "\n",
    "        # Actual detection.\n",
    "        (boxes, scores, classes, num_detections) = sess.run(\n",
    "            [boxes, scores, classes, num_detections],\n",
    "            feed_dict={image_tensor: image_np_expanded})\n",
    "        \n",
    "#         print(classes[0])\n",
    "#         print(scores[0])\n",
    "#         print(boxes[0])\n",
    "        boxes, scores, classes, = filter_boxes(0.8, boxes[0], scores[0], classes[0], 1)\n",
    "\n",
    "        \n",
    "        return (boxes, scores, classes, num_detections)\n",
    "        # filter for target classes within threshold\n",
    "#         boxes = np.squeeze(boxes)\n",
    "#         classes = np.squeeze(classes)\n",
    "#         scores = np.squeeze(scores)\n",
    "#         ix_scores = scores >= threshold\n",
    "#         ix = ix_classes * ix_scores\n",
    "#         \n",
    "#         return tf_data"
   ]
  },
  {
   "cell_type": "code",
   "execution_count": 9,
   "metadata": {
    "scrolled": true
   },
   "outputs": [
    {
     "data": {
      "text/plain": [
       "-1"
      ]
     },
     "execution_count": 9,
     "metadata": {},
     "output_type": "execute_result"
    }
   ],
   "source": [
    "# WEBCAM\n",
    "video_stream = VideoStream(src=0).start() \n",
    "# VIDEO File\n",
    "# video_stream = VideoStream(src=VIDEO_PATH).start()\n",
    "sess = tf.Session(graph=detection_graph)\n",
    "\n",
    "while video_stream.grabbed:\n",
    "    frame, counter = video_stream.read()\n",
    "    \n",
    "    # do some zoo model detection on the frame\n",
    "    data = detect_objects(frame, sess, detection_graph)\n",
    "    \n",
    "    height = frame.shape[0]\n",
    "    width = frame.shape[1]\n",
    "    \n",
    "    boxes, scores, classes, num_detections = data\n",
    "\n",
    "    for item in boxes:\n",
    "        cv2.rectangle(\n",
    "            frame,\n",
    "            (int(width * item[1]), int(height * item[0])), \n",
    "            (int(width * item[3]), int(height * item[2])), \n",
    "            (0, 0, 255),\n",
    "            1\n",
    "        )\n",
    "        class_detected = str(int(classes.tolist()[0]))\n",
    "        \n",
    "        cv2.putText(\n",
    "            frame,\n",
    "            labels[class_detected]['name'], # label\n",
    "            (int(width * item[1]), int(height * item[0])), # coordinate for the label\n",
    "            cv2.FONT_HERSHEY_SIMPLEX,\n",
    "            0.5,\n",
    "            (0, 0, 255),\n",
    "            1,\n",
    "            cv2.LINE_AA\n",
    "        )\n",
    "    \n",
    "    cv2.imshow('frame', frame)\n",
    "    \n",
    "    if cv2.waitKey(1) & 0xFF == ord('q'):\n",
    "        break\n",
    "video_stream.stop()\n",
    "cv2.destroyAllWindows()\n",
    "cv2.waitKey(1000) # to autoclose window after a few seconds"
   ]
  },
  {
   "cell_type": "code",
   "execution_count": null,
   "metadata": {},
   "outputs": [],
   "source": []
  }
 ],
 "metadata": {
  "kernelspec": {
   "display_name": "Python 3",
   "language": "python",
   "name": "python3"
  },
  "language_info": {
   "codemirror_mode": {
    "name": "ipython",
    "version": 3
   },
   "file_extension": ".py",
   "mimetype": "text/x-python",
   "name": "python",
   "nbconvert_exporter": "python",
   "pygments_lexer": "ipython3",
   "version": "3.6.5"
  }
 },
 "nbformat": 4,
 "nbformat_minor": 2
}
